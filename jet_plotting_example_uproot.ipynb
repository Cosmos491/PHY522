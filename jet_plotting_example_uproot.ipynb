{
 "cells": [
  {
   "cell_type": "markdown",
   "id": "69d2e885-5913-489c-a1b9-ccf993ce752f",
   "metadata": {},
   "source": [
    "# Plotting transverse momentum of jets\n",
    "\n",
    "This is a simple example script to plot the transverse momentum of jets in the file `qcd_multijets.root`. "
   ]
  },
  {
   "cell_type": "markdown",
   "id": "620d0932-bc8e-4d5e-8453-80d51069210d",
   "metadata": {},
   "source": [
    "## Import software, open ROOT file"
   ]
  },
  {
   "cell_type": "code",
   "execution_count": 1,
   "id": "39d7c6fd-72c4-4e26-bc07-2ac1db6feb85",
   "metadata": {},
   "outputs": [],
   "source": [
    "import uproot\n",
    "import matplotlib.pyplot as plt\n",
    "import awkward as ak"
   ]
  },
  {
   "cell_type": "code",
   "execution_count": 2,
   "id": "ac239437-f85d-400d-b4f4-75b47d16e5d0",
   "metadata": {},
   "outputs": [],
   "source": [
    "f = uproot.open(\"qcd_multijets_1.root\")"
   ]
  },
  {
   "cell_type": "code",
   "execution_count": 3,
   "id": "99e724e4-33d1-4b46-8f64-2b1cf659108b",
   "metadata": {},
   "outputs": [],
   "source": [
    "T = f['T']\n",
    "branches = T.arrays()"
   ]
  },
  {
   "cell_type": "markdown",
   "id": "604f493c-2509-43b4-bbce-c607bbc914b7",
   "metadata": {},
   "source": [
    "## Investigate the structure of the `TTree` and print some variables"
   ]
  },
  {
   "cell_type": "code",
   "execution_count": 4,
   "id": "5d8cb250-dad2-49ce-8d72-c8962564bf4f",
   "metadata": {},
   "outputs": [
    {
     "data": {
      "text/html": [
       "<pre>[{eventNum: 0, nJet: 3, jet_pt: [13.3, 11, 10.8], jet_eta: [...], ...},\n",
       " {eventNum: 1, nJet: 3, jet_pt: [18.7, ..., 10.5], jet_eta: [...], ...},\n",
       " {eventNum: 2, nJet: 8, jet_pt: [18, 17.8, ..., 10.2], jet_eta: [...], ...},\n",
       " {eventNum: 3, nJet: 1, jet_pt: [14.5], jet_eta: [-0.74], jet_phi: [5.7], ...},\n",
       " {eventNum: 4, nJet: 2, jet_pt: [12.5, 10.8], jet_eta: [...], ...},\n",
       " {eventNum: 5, nJet: 5, jet_pt: [55.2, ..., 13.1], jet_eta: [...], ...},\n",
       " {eventNum: 6, nJet: 1, jet_pt: [15.4], jet_eta: [3.02], jet_phi: [5.94], ...},\n",
       " {eventNum: 7, nJet: 3, jet_pt: [11.6, 11.2, 10], jet_eta: [...], ...},\n",
       " {eventNum: 8, nJet: 2, jet_pt: [18.2, 11.8], jet_eta: [...], ...},\n",
       " {eventNum: 9, nJet: 6, jet_pt: [18.5, ..., 10.3], jet_eta: [...], ...},\n",
       " ...,\n",
       " {eventNum: 9991, nJet: 6, jet_pt: [17.4, ..., 10.2], jet_eta: [...], ...},\n",
       " {eventNum: 9992, nJet: 10, jet_pt: [28.7, ..., 11.2], jet_eta: [...], ...},\n",
       " {eventNum: 9993, nJet: 2, jet_pt: [18.7, 14.3], jet_eta: [...], ...},\n",
       " {eventNum: 9994, nJet: 8, jet_pt: [21.1, ..., 11.3], jet_eta: [...], ...},\n",
       " {eventNum: 9995, nJet: 1, jet_pt: [11.7], jet_eta: [-0.596], ...},\n",
       " {eventNum: 9996, nJet: 3, jet_pt: [21.8, ..., 10.4], jet_eta: [...], ...},\n",
       " {eventNum: 9997, nJet: 4, jet_pt: [18.6, ..., 11.3], jet_eta: [...], ...},\n",
       " {eventNum: 9998, nJet: 3, jet_pt: [16.9, ..., 12.8], jet_eta: [...], ...},\n",
       " {eventNum: 9999, nJet: 1, jet_pt: [17], jet_eta: [2.17], jet_phi: [3.56], ...}]\n",
       "--------------------------------------------------------------------------------\n",
       "type: 9650 * {\n",
       "    eventNum: uint64,\n",
       "    nJet: int32,\n",
       "    jet_pt: var * float32,\n",
       "    jet_eta: var * float32,\n",
       "    jet_phi: var * float32,\n",
       "    jet_m: var * float32,\n",
       "    jet_msd: var * float32,\n",
       "    jet_tau1: var * 4 * float32,\n",
       "    jet_tau2: var * 4 * float32,\n",
       "    jet_tau3: var * 4 * float32,\n",
       "    jet_tau4: var * 4 * float32,\n",
       "    jet_tau5: var * 4 * float32,\n",
       "    jet_tau6: var * 4 * float32,\n",
       "    jet_tau7: var * 4 * float32,\n",
       "    jet_tau8: var * 4 * float32,\n",
       "    jet_tau1_sd: var * 4 * float32,\n",
       "    jet_tau2_sd: var * 4 * float32,\n",
       "    jet_tau3_sd: var * 4 * float32,\n",
       "    jet_tau4_sd: var * 4 * float32,\n",
       "    jet_tau5_sd: var * 4 * float32,\n",
       "    jet_tau6_sd: var * 4 * float32,\n",
       "    jet_tau7_sd: var * 4 * float32,\n",
       "    jet_tau8_sd: var * 4 * float32,\n",
       "    jet_nc: var * int32,\n",
       "    jet_ic: var * 50 * int32,\n",
       "    jet_nsubjet: var * int32,\n",
       "    jet_subjet0_pt: var * float32,\n",
       "    jet_subjet0_eta: var * float32,\n",
       "    jet_subjet0_phi: var * float32,\n",
       "    jet_subjet0_m: var * float32,\n",
       "    jet_subjet1_pt: var * float32,\n",
       "    jet_subjet1_eta: var * float32,\n",
       "    jet_subjet1_phi: var * float32,\n",
       "    jet_subjet1_m: var * float32,\n",
       "    nGen: int32,\n",
       "    gen_pt: var * float32,\n",
       "    gen_eta: var * float32,\n",
       "    gen_phi: var * float32,\n",
       "    gen_m: var * float32,\n",
       "    gen_flags: var * int32,\n",
       "    gen_id: var * int32,\n",
       "    gen_status: var * int32,\n",
       "    gen_mother1: var * int32,\n",
       "    gen_mother2: var * int32,\n",
       "    gen_daughter1: var * int32,\n",
       "    gen_daughter2: var * int32,\n",
       "    gen_col: var * int32,\n",
       "    gen_vxx: var * float32,\n",
       "    gen_vyy: var * float32,\n",
       "    gen_vzz: var * float32,\n",
       "    gen_tau: var * float32,\n",
       "    nConstituent: int32,\n",
       "    constituent_pt: var * float32,\n",
       "    constituent_eta: var * float32,\n",
       "    constituent_phi: var * float32,\n",
       "    constituent_m: var * float32,\n",
       "    constituent_flags: var * int32,\n",
       "    constituent_id: var * int32,\n",
       "    constituent_jetndx: var * int32,\n",
       "    constituent_subjetndx: var * int32,\n",
       "    constituent_status: var * int32,\n",
       "    constituent_mother1: var * int32,\n",
       "    constituent_mother2: var * int32,\n",
       "    constituent_daughter1: var * int32,\n",
       "    constituent_daughter2: var * int32,\n",
       "    constituent_col: var * int32,\n",
       "    constituent_vxx: var * float32,\n",
       "    constituent_vyy: var * float32,\n",
       "    constituent_vzz: var * float32,\n",
       "    constituent_tau: var * float32\n",
       "}</pre>"
      ],
      "text/plain": [
       "<Array [{eventNum: 0, nJet: 3, ...}, ...] type='9650 * {eventNum: uint64, n...'>"
      ]
     },
     "execution_count": 4,
     "metadata": {},
     "output_type": "execute_result"
    }
   ],
   "source": [
    "branches"
   ]
  },
  {
   "cell_type": "code",
   "execution_count": 5,
   "id": "3c267bd4-4d3f-47ad-88a6-286514d76c9c",
   "metadata": {},
   "outputs": [
    {
     "data": {
      "text/html": [
       "<pre>[3,\n",
       " 3,\n",
       " 8,\n",
       " 1,\n",
       " 2,\n",
       " 5,\n",
       " 1,\n",
       " 3,\n",
       " 2,\n",
       " 6,\n",
       " ...,\n",
       " 6,\n",
       " 10,\n",
       " 2,\n",
       " 8,\n",
       " 1,\n",
       " 3,\n",
       " 4,\n",
       " 3,\n",
       " 1]\n",
       "------------------\n",
       "type: 9650 * int32</pre>"
      ],
      "text/plain": [
       "<Array [3, 3, 8, 1, 2, 5, 1, 3, ..., 2, 8, 1, 3, 4, 3, 1] type='9650 * int32'>"
      ]
     },
     "execution_count": 5,
     "metadata": {},
     "output_type": "execute_result"
    }
   ],
   "source": [
    "branches['nJet']"
   ]
  },
  {
   "cell_type": "markdown",
   "id": "566785b8-1b85-48ab-be35-a018978e9dd8",
   "metadata": {},
   "source": [
    "## Make a plot of the number of jets "
   ]
  },
  {
   "cell_type": "code",
   "execution_count": 6,
   "id": "023d1bfd-a1c9-4c96-8b44-b38ebd6814ea",
   "metadata": {},
   "outputs": [
    {
     "data": {
      "text/plain": [
       "(array([1157., 2115., 1368., 1108.,  896.,  746.,  555.,  454.,  338.,\n",
       "         913.]),\n",
       " array([ 1. ,  1.9,  2.8,  3.7,  4.6,  5.5,  6.4,  7.3,  8.2,  9.1, 10. ]),\n",
       " <BarContainer object of 10 artists>)"
      ]
     },
     "execution_count": 6,
     "metadata": {},
     "output_type": "execute_result"
    },
    {
     "data": {
      "image/png": "[encoded data removed]",
      "text/plain": [
       "<Figure size 640x480 with 1 Axes>"
      ]
     },
     "metadata": {},
     "output_type": "display_data"
    }
   ],
   "source": [
    "plt.hist(branches['nJet'])"
   ]
  },
  {
   "cell_type": "code",
   "execution_count": 7,
   "id": "227b3baa-5028-4ffd-a3a6-7a21b1a6e79d",
   "metadata": {},
   "outputs": [],
   "source": [
    "import numpy as np"
   ]
  },
  {
   "cell_type": "code",
   "execution_count": 11,
   "id": "535b43c3-c7ce-408a-b344-d9122f5614a2",
   "metadata": {},
   "outputs": [],
   "source": [
    "pt_cut = branches['jet_pt'] > 30 "
   ]
  },
  {
   "cell_type": "code",
   "execution_count": 12,
   "id": "88c64ecf-fa8c-4a2e-a43e-7dffdecbf174",
   "metadata": {},
   "outputs": [
    {
     "data": {
      "text/html": [
       "<pre>[[False, False, False],\n",
       " [False, False, False],\n",
       " [False, False, False, False, False, False, False, False],\n",
       " [False],\n",
       " [False, False],\n",
       " [True, True, False, False, False],\n",
       " [False],\n",
       " [False, False, False],\n",
       " [False, False],\n",
       " [False, False, False, False, False, False],\n",
       " ...,\n",
       " [False, False, False, False, False, False],\n",
       " [False, False, False, False, False, False, False, False, False, False],\n",
       " [False, False],\n",
       " [False, False, False, False, False, False, False, False],\n",
       " [False],\n",
       " [False, False, False],\n",
       " [False, False, False, False],\n",
       " [False, False, False],\n",
       " [False]]\n",
       "------------------------------------------------------------------------\n",
       "type: 9650 * var * bool</pre>"
      ],
      "text/plain": [
       "<Array [[False, False, False], [...], ..., [False]] type='9650 * var * bool'>"
      ]
     },
     "execution_count": 12,
     "metadata": {},
     "output_type": "execute_result"
    }
   ],
   "source": [
    "pt_cut"
   ]
  },
  {
   "cell_type": "markdown",
   "id": "922d579f-aa71-4e34-92b3-3cf2b41b2e99",
   "metadata": {},
   "source": [
    "## Make a plot of the jet transverse momentum"
   ]
  },
  {
   "cell_type": "code",
   "execution_count": 14,
   "id": "a6311c07-79ad-473a-8419-c04fd6c92cbd",
   "metadata": {},
   "outputs": [
    {
     "data": {
      "text/plain": [
       "(array([  0.,   0., 330., 879., 202.,  66.,  19.,  13.,   5.,   4.,   5.,\n",
       "          1.,   2.,   0.,   0.,   0.,   0.,   0.,   0.]),\n",
       " array([  0.        ,  10.52631579,  21.05263158,  31.57894737,\n",
       "         42.10526316,  52.63157895,  63.15789474,  73.68421053,\n",
       "         84.21052632,  94.73684211, 105.26315789, 115.78947368,\n",
       "        126.31578947, 136.84210526, 147.36842105, 157.89473684,\n",
       "        168.42105263, 178.94736842, 189.47368421, 200.        ]),\n",
       " <BarContainer object of 19 artists>)"
      ]
     },
     "execution_count": 14,
     "metadata": {},
     "output_type": "execute_result"
    },
    {
     "data": {
      "image/png": "[encoded data removed]",
      "text/plain": [
       "<Figure size 640x480 with 1 Axes>"
      ]
     },
     "metadata": {},
     "output_type": "display_data"
    }
   ],
   "source": [
    "plt.hist(ak.flatten(branches['jet_pt'][pt_cut]), bins=np.linspace(0, 200, 20) )"
   ]
  },
  {
   "cell_type": "code",
   "execution_count": 15,
   "id": "9705449b-36ab-4121-b793-877066300300",
   "metadata": {},
   "outputs": [
    {
     "data": {
      "text/plain": [
       "(array([  7.,  12.,  21.,  39.,  39.,  37.,  33.,  55.,  56.,  57.,  61.,\n",
       "         61.,  82.,  76., 103.,  95., 104., 111., 102.,  77.,  87.,  60.,\n",
       "         41.,  24.,  24.,  11.,  18.,   8.,   4.,   7.,   3.,   1.,   0.,\n",
       "          1.,   1.,   3.,   0.,   0.,   1.,   0.,   0.,   0.,   0.,   2.,\n",
       "          0.,   0.,   0.,   1.,   0.]),\n",
       " array([ 0.        ,  1.02040816,  2.04081633,  3.06122449,  4.08163265,\n",
       "         5.10204082,  6.12244898,  7.14285714,  8.16326531,  9.18367347,\n",
       "        10.20408163, 11.2244898 , 12.24489796, 13.26530612, 14.28571429,\n",
       "        15.30612245, 16.32653061, 17.34693878, 18.36734694, 19.3877551 ,\n",
       "        20.40816327, 21.42857143, 22.44897959, 23.46938776, 24.48979592,\n",
       "        25.51020408, 26.53061224, 27.55102041, 28.57142857, 29.59183673,\n",
       "        30.6122449 , 31.63265306, 32.65306122, 33.67346939, 34.69387755,\n",
       "        35.71428571, 36.73469388, 37.75510204, 38.7755102 , 39.79591837,\n",
       "        40.81632653, 41.83673469, 42.85714286, 43.87755102, 44.89795918,\n",
       "        45.91836735, 46.93877551, 47.95918367, 48.97959184, 50.        ]),\n",
       " <BarContainer object of 49 artists>)"
      ]
     },
     "execution_count": 15,
     "metadata": {},
     "output_type": "execute_result"
    },
    {
     "data": {
      "image/png": "[encoded data removed]",
      "text/plain": [
       "<Figure size 640x480 with 1 Axes>"
      ]
     },
     "metadata": {},
     "output_type": "display_data"
    }
   ],
   "source": [
    "plt.hist(ak.flatten(branches['jet_msd'][pt_cut]), bins=np.linspace(0, 50, 50))"
   ]
  },
  {
   "cell_type": "code",
   "execution_count": null,
   "id": "630a4147-9c98-4bc9-b7b3-b519d1e6de33",
   "metadata": {},
   "outputs": [],
   "source": []
  },
  {
   "cell_type": "code",
   "execution_count": 16,
   "id": "07f49403-14a8-4484-8cd4-6e6d7540588d",
   "metadata": {},
   "outputs": [
    {
     "data": {
      "text/plain": [
       "(array([  0.,   0.,   0.,   0.,   2.,   4.,   3.,   7.,  30.,  31.,  56.,\n",
       "         65.,  91., 100., 114., 123., 134., 138., 121., 120.,  95.,  84.,\n",
       "         53.,  34.,  28.,  19.,  26.,  15.,   6.,  10.,   5.,   1.,   0.,\n",
       "          1.,   1.,   2.,   2.,   0.,   1.,   0.,   0.,   0.,   0.,   1.,\n",
       "          0.,   0.,   0.,   2.,   0.]),\n",
       " array([ 0.        ,  1.02040816,  2.04081633,  3.06122449,  4.08163265,\n",
       "         5.10204082,  6.12244898,  7.14285714,  8.16326531,  9.18367347,\n",
       "        10.20408163, 11.2244898 , 12.24489796, 13.26530612, 14.28571429,\n",
       "        15.30612245, 16.32653061, 17.34693878, 18.36734694, 19.3877551 ,\n",
       "        20.40816327, 21.42857143, 22.44897959, 23.46938776, 24.48979592,\n",
       "        25.51020408, 26.53061224, 27.55102041, 28.57142857, 29.59183673,\n",
       "        30.6122449 , 31.63265306, 32.65306122, 33.67346939, 34.69387755,\n",
       "        35.71428571, 36.73469388, 37.75510204, 38.7755102 , 39.79591837,\n",
       "        40.81632653, 41.83673469, 42.85714286, 43.87755102, 44.89795918,\n",
       "        45.91836735, 46.93877551, 47.95918367, 48.97959184, 50.        ]),\n",
       " <BarContainer object of 49 artists>)"
      ]
     },
     "execution_count": 16,
     "metadata": {},
     "output_type": "execute_result"
    },
    {
     "data": {
      "image/png": "[encoded data removed]",
      "text/plain": [
       "<Figure size 640x480 with 1 Axes>"
      ]
     },
     "metadata": {},
     "output_type": "display_data"
    }
   ],
   "source": [
    "plt.hist(ak.flatten(branches['jet_m'][pt_cut]), bins=np.linspace(0, 50, 50))"
   ]
  },
  {
   "cell_type": "code",
   "execution_count": null,
   "id": "84b68a7f-b1cf-430b-ace8-762ae2b79cb1",
   "metadata": {},
   "outputs": [],
   "source": []
  }
 ],
 "metadata": {
  "kernelspec": {
   "display_name": "Python 3 (ipykernel)",
   "language": "python",
   "name": "python3"
  },
  "language_info": {
   "codemirror_mode": {
    "name": "ipython",
    "version": 3
   },
   "file_extension": ".py",
   "mimetype": "text/x-python",
   "name": "python",
   "nbconvert_exporter": "python",
   "pygments_lexer": "ipython3",
   "version": "3.11.10"
  }
 },
 "nbformat": 4,
 "nbformat_minor": 5
}
