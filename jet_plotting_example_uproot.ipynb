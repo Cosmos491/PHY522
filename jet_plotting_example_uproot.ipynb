{
 "cells": [
  {
   "cell_type": "markdown",
   "id": "69d2e885-5913-489c-a1b9-ccf993ce752f",
   "metadata": {},
   "source": [
    "# Plotting transverse momentum of jets\n",
    "\n",
    "This is a simple example script to plot the transverse momentum of jets in the file `qcd_multijets.root`. "
   ]
  },
  {
   "cell_type": "markdown",
   "id": "620d0932-bc8e-4d5e-8453-80d51069210d",
   "metadata": {},
   "source": [
    "## Import software, open ROOT file"
   ]
  },
  {
   "cell_type": "code",
   "execution_count": 1,
   "id": "39d7c6fd-72c4-4e26-bc07-2ac1db6feb85",
   "metadata": {},
   "outputs": [],
   "source": [
    "import uproot\n",
    "import matplotlib.pyplot as plt\n",
    "import awkward as ak"
   ]
  },
  {
   "cell_type": "code",
   "execution_count": 2,
   "id": "ac239437-f85d-400d-b4f4-75b47d16e5d0",
   "metadata": {},
   "outputs": [],
   "source": [
    "f = uproot.open(\"qcd_multijets.root\")"
   ]
  },
  {
   "cell_type": "code",
   "execution_count": 3,
   "id": "99e724e4-33d1-4b46-8f64-2b1cf659108b",
   "metadata": {},
   "outputs": [],
   "source": [
    "T = f['T']\n",
    "branches = T.arrays()"
   ]
  },
  {
   "cell_type": "markdown",
   "id": "604f493c-2509-43b4-bbce-c607bbc914b7",
   "metadata": {},
   "source": [
    "## Investigate the structure of the `TTree` and print some variables"
   ]
  },
  {
   "cell_type": "code",
   "execution_count": 4,
   "id": "5d8cb250-dad2-49ce-8d72-c8962564bf4f",
   "metadata": {},
   "outputs": [
    {
     "data": {
      "text/html": [
       "<pre>[{eventNum: 5, nJet: 1, jet_pt: [55.2], jet_eta: [0.958], jet_phi: [2.78], ...},\n",
       " {eventNum: 71, nJet: 1, jet_pt: [90.2], jet_eta: [-1.11], jet_phi: ..., ...},\n",
       " {eventNum: 94, nJet: 1, jet_pt: [56.9], jet_eta: [2.91], jet_phi: [6.12], ...},\n",
       " {eventNum: 107, nJet: 1, jet_pt: [55.4], jet_eta: [0.372], jet_phi: ..., ...},\n",
       " {eventNum: 405, nJet: 2, jet_pt: [64.4, 55.5], jet_eta: [...], ...},\n",
       " {eventNum: 519, nJet: 1, jet_pt: [52.7], jet_eta: [1.54], jet_phi: ..., ...},\n",
       " {eventNum: 622, nJet: 1, jet_pt: [54.7], jet_eta: [-2.66], jet_phi: ..., ...},\n",
       " {eventNum: 630, nJet: 1, jet_pt: [65.7], jet_eta: [2], jet_phi: [3.49], ...},\n",
       " {eventNum: 770, nJet: 1, jet_pt: [69.3], jet_eta: [-1.28], jet_phi: ..., ...},\n",
       " {eventNum: 824, nJet: 2, jet_pt: [115, 96], jet_eta: [...], jet_phi: ..., ...},\n",
       " {eventNum: 863, nJet: 1, jet_pt: [76.7], jet_eta: [-3.9], jet_phi: ..., ...},\n",
       " {eventNum: 894, nJet: 2, jet_pt: [53.3, 53.1], jet_eta: [...], ...},\n",
       " {eventNum: 900, nJet: 1, jet_pt: [53.2], jet_eta: [-0.226], jet_phi: ..., ...},\n",
       " {eventNum: 933, nJet: 1, jet_pt: [86.8], jet_eta: [2.94], jet_phi: ..., ...},\n",
       " {eventNum: 985, nJet: 1, jet_pt: [73.6], jet_eta: [-1.38], jet_phi: ..., ...}]\n",
       "--------------------------------------------------------------------------------\n",
       "type: 15 * {\n",
       "    eventNum: uint64,\n",
       "    nJet: int32,\n",
       "    jet_pt: var * float32,\n",
       "    jet_eta: var * float32,\n",
       "    jet_phi: var * float32,\n",
       "    jet_m: var * float32,\n",
       "    jet_msd: var * float32,\n",
       "    jet_tau1: var * 4 * float32,\n",
       "    jet_tau2: var * 4 * float32,\n",
       "    jet_tau3: var * 4 * float32,\n",
       "    jet_tau4: var * 4 * float32,\n",
       "    jet_tau5: var * 4 * float32,\n",
       "    jet_tau6: var * 4 * float32,\n",
       "    jet_tau7: var * 4 * float32,\n",
       "    jet_tau8: var * 4 * float32,\n",
       "    jet_tau1_sd: var * 4 * float32,\n",
       "    jet_tau2_sd: var * 4 * float32,\n",
       "    jet_tau3_sd: var * 4 * float32,\n",
       "    jet_tau4_sd: var * 4 * float32,\n",
       "    jet_tau5_sd: var * 4 * float32,\n",
       "    jet_tau6_sd: var * 4 * float32,\n",
       "    jet_tau7_sd: var * 4 * float32,\n",
       "    jet_tau8_sd: var * 4 * float32,\n",
       "    jet_nc: var * int32,\n",
       "    jet_ic: var * 50 * int32,\n",
       "    jet_nsubjet: var * int32,\n",
       "    jet_subjet0_pt: var * float32,\n",
       "    jet_subjet0_eta: var * float32,\n",
       "    jet_subjet0_phi: var * float32,\n",
       "    jet_subjet0_m: var * float32,\n",
       "    jet_subjet1_pt: var * float32,\n",
       "    jet_subjet1_eta: var * float32,\n",
       "    jet_subjet1_phi: var * float32,\n",
       "    jet_subjet1_m: var * float32,\n",
       "    nGen: int32,\n",
       "    gen_pt: var * float32,\n",
       "    gen_eta: var * float32,\n",
       "    gen_phi: var * float32,\n",
       "    gen_m: var * float32,\n",
       "    gen_flags: var * int32,\n",
       "    gen_id: var * int32,\n",
       "    gen_status: var * int32,\n",
       "    gen_mother1: var * int32,\n",
       "    gen_mother2: var * int32,\n",
       "    gen_daughter1: var * int32,\n",
       "    gen_daughter2: var * int32,\n",
       "    gen_col: var * int32,\n",
       "    gen_vxx: var * float32,\n",
       "    gen_vyy: var * float32,\n",
       "    gen_vzz: var * float32,\n",
       "    gen_tau: var * float32,\n",
       "    nConstituent: int32,\n",
       "    constituent_pt: var * float32,\n",
       "    constituent_eta: var * float32,\n",
       "    constituent_phi: var * float32,\n",
       "    constituent_m: var * float32,\n",
       "    constituent_flags: var * int32,\n",
       "    constituent_id: var * int32,\n",
       "    constituent_jetndx: var * int32,\n",
       "    constituent_subjetndx: var * int32,\n",
       "    constituent_status: var * int32,\n",
       "    constituent_mother1: var * int32,\n",
       "    constituent_mother2: var * int32,\n",
       "    constituent_daughter1: var * int32,\n",
       "    constituent_daughter2: var * int32,\n",
       "    constituent_col: var * int32,\n",
       "    constituent_vxx: var * float32,\n",
       "    constituent_vyy: var * float32,\n",
       "    constituent_vzz: var * float32,\n",
       "    constituent_tau: var * float32\n",
       "}</pre>"
      ],
      "text/plain": [
       "<Array [{eventNum: 5, nJet: 1, ...}, ...] type='15 * {eventNum: uint64, nJe...'>"
      ]
     },
     "execution_count": 4,
     "metadata": {},
     "output_type": "execute_result"
    }
   ],
   "source": [
    "branches"
   ]
  },
  {
   "cell_type": "code",
   "execution_count": 5,
   "id": "3c267bd4-4d3f-47ad-88a6-286514d76c9c",
   "metadata": {},
   "outputs": [
    {
     "data": {
      "text/html": [
       "<pre>[1,\n",
       " 1,\n",
       " 1,\n",
       " 1,\n",
       " 2,\n",
       " 1,\n",
       " 1,\n",
       " 1,\n",
       " 1,\n",
       " 2,\n",
       " 1,\n",
       " 2,\n",
       " 1,\n",
       " 1,\n",
       " 1]\n",
       "----------------\n",
       "type: 15 * int32</pre>"
      ],
      "text/plain": [
       "<Array [1, 1, 1, 1, 2, 1, 1, 1, 1, 2, 1, 2, 1, 1, 1] type='15 * int32'>"
      ]
     },
     "execution_count": 5,
     "metadata": {},
     "output_type": "execute_result"
    }
   ],
   "source": [
    "branches['nJet']"
   ]
  },
  {
   "cell_type": "markdown",
   "id": "566785b8-1b85-48ab-be35-a018978e9dd8",
   "metadata": {},
   "source": [
    "## Make a plot of the number of jets "
   ]
  },
  {
   "cell_type": "code",
   "execution_count": 6,
   "id": "023d1bfd-a1c9-4c96-8b44-b38ebd6814ea",
   "metadata": {},
   "outputs": [
    {
     "data": {
      "text/plain": [
       "(array([12.,  0.,  0.,  0.,  0.,  0.,  0.,  0.,  0.,  3.]),\n",
       " array([1. , 1.1, 1.2, 1.3, 1.4, 1.5, 1.6, 1.7, 1.8, 1.9, 2. ]),\n",
       " <BarContainer object of 10 artists>)"
      ]
     },
     "execution_count": 6,
     "metadata": {},
     "output_type": "execute_result"
    },
    {
     "data": {
      "image/png": "[encoded data removed]",
      "text/plain": [
       "<Figure size 640x480 with 1 Axes>"
      ]
     },
     "metadata": {},
     "output_type": "display_data"
    }
   ],
   "source": [
    "plt.hist(branches['nJet'])"
   ]
  },
  {
   "cell_type": "markdown",
   "id": "922d579f-aa71-4e34-92b3-3cf2b41b2e99",
   "metadata": {},
   "source": [
    "## Make a plot of the jet transverse momentum"
   ]
  },
  {
   "cell_type": "code",
   "execution_count": 7,
   "id": "a6311c07-79ad-473a-8419-c04fd6c92cbd",
   "metadata": {},
   "outputs": [
    {
     "data": {
      "text/plain": [
       "(array([9., 1., 2., 2., 0., 1., 2., 0., 0., 1.]),\n",
       " array([ 52.65531158,  58.86066055,  65.06600952,  71.27135468,\n",
       "         77.47669983,  83.68205261,  89.88739777,  96.09274292,\n",
       "        102.29808807, 108.50344086, 114.70878601]),\n",
       " <BarContainer object of 10 artists>)"
      ]
     },
     "execution_count": 7,
     "metadata": {},
     "output_type": "execute_result"
    },
    {
     "data": {
      "image/png": "[encoded data removed]",
      "text/plain": [
       "<Figure size 640x480 with 1 Axes>"
      ]
     },
     "metadata": {},
     "output_type": "display_data"
    }
   ],
   "source": [
    "plt.hist(ak.flatten(branches['jet_pt']))"
   ]
  },
  {
   "cell_type": "code",
   "execution_count": null,
   "id": "9705449b-36ab-4121-b793-877066300300",
   "metadata": {},
   "outputs": [],
   "source": []
  }
 ],
 "metadata": {
  "kernelspec": {
   "display_name": "Python 3 (ipykernel)",
   "language": "python",
   "name": "python3"
  },
  "language_info": {
   "codemirror_mode": {
    "name": "ipython",
    "version": 3
   },
   "file_extension": ".py",
   "mimetype": "text/x-python",
   "name": "python",
   "nbconvert_exporter": "python",
   "pygments_lexer": "ipython3",
   "version": "3.11.10"
  }
 },
 "nbformat": 4,
 "nbformat_minor": 5
}
